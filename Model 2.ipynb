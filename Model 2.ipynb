{
 "cells": [
  {
   "cell_type": "code",
   "execution_count": 1,
   "metadata": {},
   "outputs": [],
   "source": [
    "from pulp import*"
   ]
  },
  {
   "cell_type": "code",
   "execution_count": 2,
   "metadata": {},
   "outputs": [],
   "source": [
    "# definition of sets and parameters\n",
    "\n",
    "# Factories, distribution centers and stores (sets)\n",
    "Factory = [\"Purple\", \"Blue\", \"Orange\"]\n",
    "DistributionCenter = [\"Strawberry\", \"Blackberry\"]\n",
    "Stores = [\"Alpha\", \"Beta\", \"Gamma\"]\n",
    "\n",
    "# Capacities\n",
    "FCapacity = {\"Purple\": 6000,\n",
    "             \"Blue\"  : 8000,\n",
    "             \"Orange\": 10000}\n",
    "\n",
    "# Demand of the stores\n",
    "Demand = {\"Alpha\":5000,\n",
    "          \"Beta\": 12000,\n",
    "          \"Gamma\": 7000}\n",
    "\n",
    "# Costs\n",
    "CostFDC = {\"Purple\":{\"Strawberry\": 3,\n",
    "                     \"Blackberry\": 4},\n",
    "           \"Blue\": {\"Strawberry\": 5,\n",
    "                    \"Blackberry\": 2},\n",
    "           \"Orange\": {\"Strawberry\": 6,\n",
    "                      \"Blackberry\": 3}}\n",
    "\n",
    "CostDCS = {\"Strawberry\": {\"Alpha\": 2,\n",
    "                          \"Beta\": 6,\n",
    "                          \"Gamma\": 3},\n",
    "           \"Blackberry\": {\"Alpha\": 5,\n",
    "                          \"Beta\": 4,\n",
    "                          \"Gamma\": 7}}"
   ]
  },
  {
   "cell_type": "code",
   "execution_count": 3,
   "metadata": {},
   "outputs": [],
   "source": [
    "prob = LpProblem(\"EGManufacturing\", LpMinimize)"
   ]
  },
  {
   "cell_type": "code",
   "execution_count": 4,
   "metadata": {},
   "outputs": [],
   "source": [
    "X = LpVariable.dicts(\"x\",\n",
    "                     (Factory, DistributionCenter),\n",
    "                     lowBound = 0,\n",
    "                     upBound = None,\n",
    "                     cat = const.LpInteger)\n",
    "\n",
    "Y = LpVariable.dicts(\"x\",\n",
    "                     (DistributionCenter, Stores),\n",
    "                     lowBound = 0,\n",
    "                     upBound = None,\n",
    "                     cat = const.LpInteger)"
   ]
  },
  {
   "cell_type": "code",
   "execution_count": 5,
   "metadata": {},
   "outputs": [],
   "source": [
    "prob += lpSum(CostFDC[i][j]*X[i][j] \\\n",
    "              for i in Factory for j in DistributionCenter) + lpSum(CostDCS[j][k]*Y[j][k] \\\n",
    "                                                                                          for j in DistributionCenter for k in Stores)"
   ]
  },
  {
   "cell_type": "code",
   "execution_count": 6,
   "metadata": {},
   "outputs": [],
   "source": [
    "# Constraints\n",
    "\n",
    "for k in Stores:\n",
    "    prob += lpSum(Y[j][k] for j in DistributionCenter) >= Demand[k]\n",
    "    \n",
    "for j in DistributionCenter:\n",
    "    prob += lpSum(X[i][j] for i in Factory) >= lpSum(Y[j][k] for k in Stores)\n",
    "    \n",
    "for i in Factory:\n",
    "    prob += lpSum(X[i][j] for j in DistributionCenter) <= FCapacity[i]"
   ]
  },
  {
   "cell_type": "code",
   "execution_count": 7,
   "metadata": {},
   "outputs": [
    {
     "data": {
      "text/plain": [
       "1"
      ]
     },
     "execution_count": 7,
     "metadata": {},
     "output_type": "execute_result"
    }
   ],
   "source": [
    "prob.solve()"
   ]
  },
  {
   "cell_type": "code",
   "execution_count": 9,
   "metadata": {},
   "outputs": [
    {
     "name": "stdout",
     "output_type": "stream",
     "text": [
      "The problem is  Optimal\n",
      "The objective function value is  161000.0\n",
      "x_Blackberry_Beta = 12000.0\n",
      "x_Blue_Blackberry = 2000.0\n",
      "x_Blue_Strawberry = 6000.0\n",
      "x_Orange_Blackberry = 10000.0\n",
      "x_Purple_Strawberry = 6000.0\n",
      "x_Strawberry_Alpha = 5000.0\n",
      "x_Strawberry_Gamma = 7000.0\n"
     ]
    }
   ],
   "source": [
    "print(\"The problem is \", LpStatus[prob.status])\n",
    "print(\"The objective function value is \", value(prob.objective))\n",
    "for v in prob.variables():\n",
    "    if v.varValue > 0.1:\n",
    "        print(v.name, \"=\", v.varValue)"
   ]
  },
  {
   "cell_type": "code",
   "execution_count": null,
   "metadata": {},
   "outputs": [],
   "source": []
  }
 ],
 "metadata": {
  "kernelspec": {
   "display_name": "Python 3",
   "language": "python",
   "name": "python3"
  },
  "language_info": {
   "codemirror_mode": {
    "name": "ipython",
    "version": 3
   },
   "file_extension": ".py",
   "mimetype": "text/x-python",
   "name": "python",
   "nbconvert_exporter": "python",
   "pygments_lexer": "ipython3",
   "version": "3.8.5"
  }
 },
 "nbformat": 4,
 "nbformat_minor": 4
}
