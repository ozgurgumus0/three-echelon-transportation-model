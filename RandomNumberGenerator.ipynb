{
 "cells": [
  {
   "cell_type": "code",
   "execution_count": 1,
   "metadata": {},
   "outputs": [
    {
     "name": "stdout",
     "output_type": "stream",
     "text": [
      "The shipment cost from factory to distribution center\n",
      "             Atlas  Nebule  Azure\n",
      "Tonoz           10       4      9\n",
      "White Kiosk     10       2      7\n",
      "Quarterage       7       8      1\n",
      "Middle Yard      9       8      6\n",
      "\n",
      " The shipment cost from distribution center to store\n",
      "        Venus  Minerva  Neptunus  Mars  Ceres\n",
      "Atlas       5        7        10     3      1\n",
      "Nebule      7        5         4     5     10\n",
      "Azure       3        8         1     9      8\n",
      "\n",
      " The shipment cost from factory to store\n",
      "             Venus  Minerva  Neptunus  Mars  Ceres\n",
      "Tonoz            8        9         9     7     10\n",
      "White Kiosk      9        7         4     1      4\n",
      "Quarterage      10        5         3     9      2\n",
      "Middle Yard      2        7         8     5      6\n"
     ]
    }
   ],
   "source": [
    "import pandas as pd\n",
    "import numpy as np\n",
    "import math\n",
    "\n",
    "# the seed number should be your student ID. \n",
    "# If it has letter, please ignore it and use only numbers in the ID\n",
    "np.random.seed(21506050) \n",
    "\n",
    "# Shipment cost from factory to distribution center\n",
    "RandomFtoD1 = np.round(np.random.uniform(low = 1, high = 10, size = 12),0).astype(int)\n",
    "RandomFtoD2 = np.reshape(RandomFtoD1, (4,3))\n",
    "CostFtoD = pd.DataFrame(RandomFtoD2, columns=['Atlas', 'Nebule',\"Azure\"], \n",
    "                        index=[\"Tonoz\",\"White Kiosk\",\"Quarterage\",\"Middle Yard\"])\n",
    "#CostFtoD # gives the shipment cost from factory to distribution center\n",
    "\n",
    "# Shipment cost from distribution center to store\n",
    "RandomDtoS1 = np.round(np.random.uniform(low = 1, high = 10, size = 15),0).astype(int)\n",
    "RandomDtoS2 = np.reshape(RandomDtoS1, (3,5))\n",
    "CostDtoS = pd.DataFrame(RandomDtoS2, columns=[\"Venus\", \"Minerva\", \"Neptunus\", \"Mars\", \"Ceres\"], \n",
    "                        index=['Atlas', 'Nebule',\"Azure\"])\n",
    "#CostDtoS # gives the shipment cost from distribution center to store\n",
    "\n",
    "# Shipment cost from factory to store\n",
    "RandomFtoS1 = np.round(np.random.uniform(low = 1, high = 10, size = 20),0).astype(int)\n",
    "RandomFtoS2 = np.reshape(RandomFtoS1, (4,5))\n",
    "CostFtoS = pd.DataFrame(RandomFtoS2, columns=[\"Venus\", \"Minerva\", \"Neptunus\", \"Mars\", \"Ceres\"],\n",
    "                        index=[\"Tonoz\",\"White Kiosk\",\"Quarterage\",\"Middle Yard\"])\n",
    "#CostFtoS # gives the shipment cost from distribution center to store\n",
    "\n",
    "# Your Required Information About Shipment Cost\n",
    "print(\"The shipment cost from factory to distribution center\")\n",
    "print(CostFtoD)\n",
    "print(\"\\n The shipment cost from distribution center to store\")\n",
    "print(CostDtoS)\n",
    "print(\"\\n The shipment cost from factory to store\")\n",
    "print(CostFtoS)"
   ]
  },
  {
   "cell_type": "code",
   "execution_count": null,
   "metadata": {},
   "outputs": [],
   "source": []
  }
 ],
 "metadata": {
  "kernelspec": {
   "display_name": "Python 3",
   "language": "python",
   "name": "python3"
  },
  "language_info": {
   "codemirror_mode": {
    "name": "ipython",
    "version": 3
   },
   "file_extension": ".py",
   "mimetype": "text/x-python",
   "name": "python",
   "nbconvert_exporter": "python",
   "pygments_lexer": "ipython3",
   "version": "3.8.5"
  }
 },
 "nbformat": 4,
 "nbformat_minor": 4
}
